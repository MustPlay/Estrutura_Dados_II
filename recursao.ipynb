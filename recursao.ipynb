{
  "nbformat": 4,
  "nbformat_minor": 0,
  "metadata": {
    "colab": {
      "provenance": []
    },
    "kernelspec": {
      "name": "python3",
      "display_name": "Python 3"
    },
    "language_info": {
      "name": "python"
    }
  },
  "cells": [
    {
      "cell_type": "code",
      "execution_count": 4,
      "metadata": {
        "id": "O42GpdN2n4p6"
      },
      "outputs": [],
      "source": [
        "def word_split(frase, listOfWords):\n",
        "  if not frase:\n",
        "    return []\n",
        "  result = []\n",
        "  for i in range(1, len(frase)+1):\n",
        "    word = frase[:i]\n",
        "    if word in listOfWords:\n",
        "      rest = word_split(frase[i:], listOfWords)\n",
        "      if rest is not None:\n",
        "        result.append([word] + rest)\n",
        "  if result:\n",
        "    return result[0]\n",
        "  else:\n",
        "    return None"
      ]
    },
    {
      "cell_type": "code",
      "source": [
        "frase = 'bomdiapovo'\n",
        "words = ['bom','povo','noite','dia']\n",
        "word_split(frase, words )"
      ],
      "metadata": {
        "colab": {
          "base_uri": "https://localhost:8080/"
        },
        "id": "KRSo30ZDopLa",
        "outputId": "e28ed29a-7d85-4565-9f2b-7f59c192ce7a"
      },
      "execution_count": 7,
      "outputs": [
        {
          "output_type": "execute_result",
          "data": {
            "text/plain": [
              "['bom', 'dia', 'povo']"
            ]
          },
          "metadata": {},
          "execution_count": 7
        }
      ]
    }
  ]
}